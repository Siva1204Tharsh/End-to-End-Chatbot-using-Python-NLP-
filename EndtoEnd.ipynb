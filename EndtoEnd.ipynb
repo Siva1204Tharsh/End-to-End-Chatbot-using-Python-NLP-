{
 "cells": [
  {
   "cell_type": "code",
   "execution_count": 10,
   "metadata": {},
   "outputs": [
    {
     "name": "stderr",
     "output_type": "stream",
     "text": [
      "[nltk_data] Downloading package punkt to\n",
      "[nltk_data]     C:\\Users\\SIVA1201\\AppData\\Roaming\\nltk_data...\n",
      "[nltk_data]   Package punkt is already up-to-date!\n"
     ]
    },
    {
     "data": {
      "text/plain": [
       "True"
      ]
     },
     "execution_count": 10,
     "metadata": {},
     "output_type": "execute_result"
    }
   ],
   "source": [
    "import os\n",
    "import nltk\n",
    "import ssl\n",
    "# \n",
    "import random\n",
    "from sklearn.feature_extraction.text import TfidfVectorizer\n",
    "from sklearn.linear_model import LogisticRegression\n",
    "\n",
    "ssl._create_default_https_context = ssl._create_unverified_context\n",
    "nltk.data.path.append(os.path.abspath(\"nltk_data\"))\n",
    "nltk.download('punkt')"
   ]
  },
  {
   "cell_type": "code",
   "execution_count": 11,
   "metadata": {},
   "outputs": [],
   "source": [
    "intents = [\n",
    "    {\"tag\": \"greeting\", \"patterns\": [\"Hi\", \"Hello\", \"Hey\", \"How are you?\", \"What's up\"], \"responses\": [\"Hi there!\", \"Hello!\", \"Hey!\", \"I'm good, thank you!\", \"Not much, you?\"]},\n",
    "    {\"tag\": \"goodbye\", \"patterns\": [\"Bye\", \"See you\", \"Goodbye\", \"Take care\"], \"responses\": [\"Goodbye!\", \"See you later!\", \"Take care!\"]},\n",
    "    {\"tag\": \"thanks\", \"patterns\": [\"Thank you\", \"Thanks\", \"Much appreciated\", \"I appreciate it\"], \"responses\": [\"You're welcome!\", \"No problem!\", \"Happy to help!\"]},\n",
    "    {\"tag\": \"about\", \"patterns\": [\"What can you do?\", \"Who are you?\", \"Tell me about yourself\"], \"responses\": [\"I'm a chatbot here to assist you!\", \"I can help with various tasks and questions.\"]},\n",
    "    {\"tag\": \"help\", \"patterns\": [\"I need help\", \"Can you help me?\", \"Help\"], \"responses\": [\"Of course! What do you need help with?\", \"Sure, how can I assist you?\"]},\n",
    "    {\"tag\": \"jokes\", \"patterns\": [\"Tell me a joke\", \"Make me laugh\", \"Any jokes?\"], \"responses\": [\"Why did the chicken join a band? Because it had the drumsticks!\", \"What do you call cheese that isn’t yours? Nacho cheese!\"]},\n",
    "    {\"tag\": \"time\", \"patterns\": [\"What's the time?\", \"Tell me the time\", \"Current time\"], \"responses\": [\"Check your device for the time.\", \"Sorry, I can't provide the time right now.\"]},\n",
    "    {\"tag\": \"date\", \"patterns\": [\"What's today's date?\", \"Tell me the date\"], \"responses\": [\"You can check the date on your calendar.\", \"I can't tell the exact date, but your device can.\"]},\n",
    "    {\"tag\": \"weather\", \"patterns\": [\"What's the weather?\", \"Weather today\", \"Is it raining?\"], \"responses\": [\"I can't provide live weather, but check your weather app for updates.\"]},\n",
    "    {\"tag\": \"news\", \"patterns\": [\"What's the news?\", \"Tell me the latest news\"], \"responses\": [\"Check news sites like BBC or CNN for the latest updates.\", \"I don't provide live news, but Google News is a great source.\"]},\n",
    "    {\"tag\": \"motivation\", \"patterns\": [\"I need motivation\", \"Inspire me\"], \"responses\": [\"Believe in yourself! You can do it.\", \"Success starts with a single step.\"]},\n",
    "    {\"tag\": \"books\", \"patterns\": [\"Recommend a book\", \"What should I read?\"], \"responses\": [\"Try 'The Alchemist' by Paulo Coelho or '1984' by George Orwell.\"]},\n",
    "    {\"tag\": \"movies\", \"patterns\": [\"Suggest a movie\", \"What should I watch?\"], \"responses\": [\"'Inception' is a great pick!\", \"'The Shawshank Redemption' is a classic.\"]},\n",
    "    {\"tag\": \"hobbies\", \"patterns\": [\"What are your hobbies?\", \"Do you have hobbies?\"], \"responses\": [\"I enjoy learning and helping people!\", \"My hobby is assisting you.\"]},\n",
    "    {\"tag\": \"travel\", \"patterns\": [\"Where should I travel?\", \"Suggest a destination\"], \"responses\": [\"Visit Paris for romance or Bali for nature!\", \"Try exploring the local wonders in your area.\"]},\n",
    "    {\"tag\": \"fitness\", \"patterns\": [\"How can I get fit?\", \"Fitness tips\"], \"responses\": [\"Exercise regularly and eat a balanced diet.\", \"Start with a daily walk or run.\"]},\n",
    "    {\"tag\": \"mental_health\", \"patterns\": [\"I feel stressed\", \"How to relax?\"], \"responses\": [\"Try deep breathing or meditation.\", \"Take a break and focus on what you enjoy.\"]},\n",
    "    {\"tag\": \"technology\", \"patterns\": [\"Tell me about technology\", \"What’s new in tech?\"], \"responses\": [\"AI, IoT, and blockchain are hot topics!\", \"Check tech blogs for the latest innovations.\"]},\n",
    "    {\"tag\": \"finance\", \"patterns\": [\"How to save money?\", \"Budgeting tips\"], \"responses\": [\"Track your expenses and set financial goals.\", \"The 50/30/20 rule is a great budgeting method.\"]},\n",
    "    {\"tag\": \"career\", \"patterns\": [\"How to advance in my career?\", \"Career tips\"], \"responses\": [\"Focus on skill-building and networking.\", \"Set clear goals and work consistently toward them.\"]},\n",
    "    {\"tag\": \"education\", \"patterns\": [\"Learning tips\", \"How to study better?\"], \"responses\": [\"Use the Pomodoro technique for focus.\", \"Take breaks and practice active recall.\"]},\n",
    "    {\"tag\": \"pets\", \"patterns\": [\"Tell me about pets\", \"Which pet should I get?\"], \"responses\": [\"Dogs are loyal, and cats are independent.\", \"Choose a pet that matches your lifestyle.\"]},\n",
    "    {\"tag\": \"cooking\", \"patterns\": [\"How to cook?\", \"Easy recipes\"], \"responses\": [\"Try simple recipes like pasta or stir-fry.\", \"Cooking tutorials on YouTube are very helpful.\"]},\n",
    "    {\"tag\": \"shopping\", \"patterns\": [\"Shopping tips?\", \"Where to buy?\"], \"responses\": [\"Compare prices online for the best deals.\", \"Look for discounts during sales seasons.\"]},\n",
    "    {\"tag\": \"relationships\", \"patterns\": [\"Relationship advice?\", \"How to improve relationships?\"], \"responses\": [\"Communication is key to any relationship.\", \"Show empathy and understanding to your loved ones.\"]},\n",
    "    {\"tag\": \"languages\", \"patterns\": [\"How to learn a language?\", \"Best language to learn?\"], \"responses\": [\"Start with apps like Duolingo or Rosetta Stone.\", \"Choose a language based on your interests and goals.\"]},\n",
    "    {\"tag\": \"music\", \"patterns\": [\"Recommend music\", \"What should I listen to?\"], \"responses\": [\"Try classical music for focus or pop for fun!\", \"Explore trending tracks on Spotify or YouTube.\"]},\n",
    "    {\"tag\": \"productivity\", \"patterns\": [\"How to be productive?\", \"Productivity tips\"], \"responses\": [\"Set daily goals and prioritize tasks.\", \"Use tools like Notion or Trello to stay organized.\"]},\n",
    "    {\"tag\": \"quotes\", \"patterns\": [\"Give me a quote\", \"Inspirational quotes\"], \"responses\": [\"'The only limit to our realization of tomorrow is our doubts of today.' - FDR\", \"'Believe you can and you're halfway there.' - Theodore Roosevelt\"]},\n",
    "    {\"tag\": \"sports\", \"patterns\": [\"What's the latest news on sports?\", \"How about the NBA?\"], \"responses\": [\"Check ESPN or Sports Illustrated for the latest updates.\", \"I don't provide live sports news, but you can check your favorite sports app for updates.\"]}\n",
    "]\n"
   ]
  },
  {
   "cell_type": "markdown",
   "metadata": {},
   "source": [
    "### Model Training"
   ]
  },
  {
   "cell_type": "code",
   "execution_count": 12,
   "metadata": {},
   "outputs": [
    {
     "data": {
      "text/html": [
       "<style>#sk-container-id-3 {color: black;}#sk-container-id-3 pre{padding: 0;}#sk-container-id-3 div.sk-toggleable {background-color: white;}#sk-container-id-3 label.sk-toggleable__label {cursor: pointer;display: block;width: 100%;margin-bottom: 0;padding: 0.3em;box-sizing: border-box;text-align: center;}#sk-container-id-3 label.sk-toggleable__label-arrow:before {content: \"▸\";float: left;margin-right: 0.25em;color: #696969;}#sk-container-id-3 label.sk-toggleable__label-arrow:hover:before {color: black;}#sk-container-id-3 div.sk-estimator:hover label.sk-toggleable__label-arrow:before {color: black;}#sk-container-id-3 div.sk-toggleable__content {max-height: 0;max-width: 0;overflow: hidden;text-align: left;background-color: #f0f8ff;}#sk-container-id-3 div.sk-toggleable__content pre {margin: 0.2em;color: black;border-radius: 0.25em;background-color: #f0f8ff;}#sk-container-id-3 input.sk-toggleable__control:checked~div.sk-toggleable__content {max-height: 200px;max-width: 100%;overflow: auto;}#sk-container-id-3 input.sk-toggleable__control:checked~label.sk-toggleable__label-arrow:before {content: \"▾\";}#sk-container-id-3 div.sk-estimator input.sk-toggleable__control:checked~label.sk-toggleable__label {background-color: #d4ebff;}#sk-container-id-3 div.sk-label input.sk-toggleable__control:checked~label.sk-toggleable__label {background-color: #d4ebff;}#sk-container-id-3 input.sk-hidden--visually {border: 0;clip: rect(1px 1px 1px 1px);clip: rect(1px, 1px, 1px, 1px);height: 1px;margin: -1px;overflow: hidden;padding: 0;position: absolute;width: 1px;}#sk-container-id-3 div.sk-estimator {font-family: monospace;background-color: #f0f8ff;border: 1px dotted black;border-radius: 0.25em;box-sizing: border-box;margin-bottom: 0.5em;}#sk-container-id-3 div.sk-estimator:hover {background-color: #d4ebff;}#sk-container-id-3 div.sk-parallel-item::after {content: \"\";width: 100%;border-bottom: 1px solid gray;flex-grow: 1;}#sk-container-id-3 div.sk-label:hover label.sk-toggleable__label {background-color: #d4ebff;}#sk-container-id-3 div.sk-serial::before {content: \"\";position: absolute;border-left: 1px solid gray;box-sizing: border-box;top: 0;bottom: 0;left: 50%;z-index: 0;}#sk-container-id-3 div.sk-serial {display: flex;flex-direction: column;align-items: center;background-color: white;padding-right: 0.2em;padding-left: 0.2em;position: relative;}#sk-container-id-3 div.sk-item {position: relative;z-index: 1;}#sk-container-id-3 div.sk-parallel {display: flex;align-items: stretch;justify-content: center;background-color: white;position: relative;}#sk-container-id-3 div.sk-item::before, #sk-container-id-3 div.sk-parallel-item::before {content: \"\";position: absolute;border-left: 1px solid gray;box-sizing: border-box;top: 0;bottom: 0;left: 50%;z-index: -1;}#sk-container-id-3 div.sk-parallel-item {display: flex;flex-direction: column;z-index: 1;position: relative;background-color: white;}#sk-container-id-3 div.sk-parallel-item:first-child::after {align-self: flex-end;width: 50%;}#sk-container-id-3 div.sk-parallel-item:last-child::after {align-self: flex-start;width: 50%;}#sk-container-id-3 div.sk-parallel-item:only-child::after {width: 0;}#sk-container-id-3 div.sk-dashed-wrapped {border: 1px dashed gray;margin: 0 0.4em 0.5em 0.4em;box-sizing: border-box;padding-bottom: 0.4em;background-color: white;}#sk-container-id-3 div.sk-label label {font-family: monospace;font-weight: bold;display: inline-block;line-height: 1.2em;}#sk-container-id-3 div.sk-label-container {text-align: center;}#sk-container-id-3 div.sk-container {/* jupyter's `normalize.less` sets `[hidden] { display: none; }` but bootstrap.min.css set `[hidden] { display: none !important; }` so we also need the `!important` here to be able to override the default hidden behavior on the sphinx rendered scikit-learn.org. See: https://github.com/scikit-learn/scikit-learn/issues/21755 */display: inline-block !important;position: relative;}#sk-container-id-3 div.sk-text-repr-fallback {display: none;}</style><div id=\"sk-container-id-3\" class=\"sk-top-container\"><div class=\"sk-text-repr-fallback\"><pre>LogisticRegression(max_iter=10000, random_state=0)</pre><b>In a Jupyter environment, please rerun this cell to show the HTML representation or trust the notebook. <br />On GitHub, the HTML representation is unable to render, please try loading this page with nbviewer.org.</b></div><div class=\"sk-container\" hidden><div class=\"sk-item\"><div class=\"sk-estimator sk-toggleable\"><input class=\"sk-toggleable__control sk-hidden--visually\" id=\"sk-estimator-id-3\" type=\"checkbox\" checked><label for=\"sk-estimator-id-3\" class=\"sk-toggleable__label sk-toggleable__label-arrow\">LogisticRegression</label><div class=\"sk-toggleable__content\"><pre>LogisticRegression(max_iter=10000, random_state=0)</pre></div></div></div></div></div>"
      ],
      "text/plain": [
       "LogisticRegression(max_iter=10000, random_state=0)"
      ]
     },
     "execution_count": 12,
     "metadata": {},
     "output_type": "execute_result"
    }
   ],
   "source": [
    "# Create the vectorizer and classifier\n",
    "vectorizer = TfidfVectorizer()\n",
    "clf = LogisticRegression(random_state=0, max_iter=10000)\n",
    "\n",
    "# Preprocess the data\n",
    "tags = []\n",
    "patterns = []\n",
    "for intent in intents:\n",
    "    for pattern in intent['patterns']:\n",
    "        tags.append(intent['tag'])\n",
    "        patterns.append(pattern)\n",
    "\n",
    "# training the model\n",
    "x = vectorizer.fit_transform(patterns)\n",
    "y = tags\n",
    "clf.fit(x, y)"
   ]
  },
  {
   "cell_type": "code",
   "execution_count": 13,
   "metadata": {},
   "outputs": [],
   "source": [
    "def chatbot(input_text):\n",
    "    input_text = vectorizer.transform([input_text])\n",
    "    tag = clf.predict(input_text)[0]\n",
    "    for intent in intents:\n",
    "        if intent['tag'] == tag:\n",
    "            response = random.choice(intent['responses'])\n",
    "            return response"
   ]
  },
  {
   "cell_type": "code",
   "execution_count": 1,
   "metadata": {},
   "outputs": [
    {
     "name": "stderr",
     "output_type": "stream",
     "text": [
      "2025-01-03 10:13:49.362 WARNING streamlit.runtime.scriptrunner_utils.script_run_context: Thread 'MainThread': missing ScriptRunContext! This warning can be ignored when running in bare mode.\n",
      "2025-01-03 10:13:49.641 \n",
      "  \u001b[33m\u001b[1mWarning:\u001b[0m to view this Streamlit app on a browser, run it with the following\n",
      "  command:\n",
      "\n",
      "    streamlit run C:\\Users\\SIVA1201\\AppData\\Roaming\\Python\\Python39\\site-packages\\ipykernel_launcher.py [ARGUMENTS]\n",
      "2025-01-03 10:13:49.642 Thread 'MainThread': missing ScriptRunContext! This warning can be ignored when running in bare mode.\n",
      "2025-01-03 10:13:49.643 Thread 'MainThread': missing ScriptRunContext! This warning can be ignored when running in bare mode.\n",
      "2025-01-03 10:13:49.644 Thread 'MainThread': missing ScriptRunContext! This warning can be ignored when running in bare mode.\n",
      "2025-01-03 10:13:49.644 Thread 'MainThread': missing ScriptRunContext! This warning can be ignored when running in bare mode.\n",
      "2025-01-03 10:13:49.646 Thread 'MainThread': missing ScriptRunContext! This warning can be ignored when running in bare mode.\n",
      "2025-01-03 10:13:49.647 Thread 'MainThread': missing ScriptRunContext! This warning can be ignored when running in bare mode.\n",
      "2025-01-03 10:13:49.648 Thread 'MainThread': missing ScriptRunContext! This warning can be ignored when running in bare mode.\n",
      "2025-01-03 10:13:49.649 Thread 'MainThread': missing ScriptRunContext! This warning can be ignored when running in bare mode.\n",
      "2025-01-03 10:13:49.651 Thread 'MainThread': missing ScriptRunContext! This warning can be ignored when running in bare mode.\n",
      "2025-01-03 10:13:49.651 Session state does not function when running a script without `streamlit run`\n",
      "2025-01-03 10:13:49.653 Thread 'MainThread': missing ScriptRunContext! This warning can be ignored when running in bare mode.\n",
      "2025-01-03 10:13:49.654 Thread 'MainThread': missing ScriptRunContext! This warning can be ignored when running in bare mode.\n"
     ]
    }
   ],
   "source": [
    "import streamlit as st\n",
    "counter = 0\n",
    "\n",
    "def main():\n",
    "    global counter\n",
    "    st.title(\"Chatbot\")\n",
    "    st.write(\"Welcome to the chatbot. Please type a message and press Enter to start the conversation.\")\n",
    "\n",
    "    counter += 1\n",
    "    user_input = st.text_input(\"You:\", key=f\"user_input_{counter}\")\n",
    "\n",
    "    if user_input:\n",
    "        response = chatbot(user_input)\n",
    "        st.text_area(\"Chatbot:\", value=response, height=100, max_chars=None, key=f\"chatbot_response_{counter}\")\n",
    "\n",
    "        if response.lower() in ['goodbye', 'bye']:\n",
    "            st.write(\"Thank you for chatting with me. Have a great day!\")\n",
    "            st.stop()\n",
    "\n",
    "if __name__ == '__main__':\n",
    "    main()"
   ]
  }
 ],
 "metadata": {
  "kernelspec": {
   "display_name": "artsci",
   "language": "python",
   "name": "python3"
  },
  "language_info": {
   "codemirror_mode": {
    "name": "ipython",
    "version": 3
   },
   "file_extension": ".py",
   "mimetype": "text/x-python",
   "name": "python",
   "nbconvert_exporter": "python",
   "pygments_lexer": "ipython3",
   "version": "3.9.6"
  }
 },
 "nbformat": 4,
 "nbformat_minor": 2
}
